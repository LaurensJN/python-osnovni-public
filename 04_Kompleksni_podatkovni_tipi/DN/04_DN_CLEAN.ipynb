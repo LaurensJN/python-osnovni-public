{
 "cells": [
  {
   "cell_type": "markdown",
   "metadata": {},
   "source": [
    "<div class=\"alert alert-block alert-info\">\n",
    "<h1><b>Naloga: </b></h1>\n",
    "<p>\n",
    "Izpišite srednje 3 črke podanega string-a.\n",
    "</p>\n",
    "<pre>\n",
    "</pre>\n",
    "\n",
    "Za določanje dolžine stringa lahko uporabite funkcijo <b>len(string)</b>\n",
    "\n",
    "len(\"World\") je enako 5.\n",
    "</div>\n",
    "\n",
    "Primeri:\n",
    "```python\n",
    "Input: World\n",
    "Output: orl\n",
    "\n",
    "Input: Python Programming Language\n",
    "Output: amm\n",
    "\n",
    "Input: 1234abc\n",
    "Output: 34a\n",
    "```"
   ]
  },
  {
   "cell_type": "code",
   "execution_count": 8,
   "metadata": {},
   "outputs": [
    {
     "name": "stdout",
     "output_type": "stream",
     "text": [
      "Input: Python Programming Language\n",
      "Output: amm\n"
     ]
    }
   ],
   "source": [
    "# Rešitev\n",
    "word = input(\"Input: \")\n",
    "start_id = (len(word) // 2) - 1\n",
    "end_id = (len(word) // 2) + 2 \n",
    "print(f\"Output: {word[start_id:end_id]}\")"
   ]
  },
  {
   "cell_type": "markdown",
   "metadata": {},
   "source": [
    "<div class=\"alert alert-block alert-info\">\n",
    "<h1><b>Naloga: </b></h1>\n",
    "<p>\n",
    "Podana imaste dva stringa. Iz njih ustvarite nov string tako, da uporabite prvi dve črk prvega stringa, nato celoten drugi string in na koncu preostanek prvega stringa.\n",
    "\n",
    "</p>\n",
    "</div>\n",
    "\n",
    "Primeri:\n",
    "```python\n",
    "Input:\n",
    "Marec\n",
    "April\n",
    "\n",
    "Output:\n",
    "MaAprilrec\n",
    "\n",
    "\n",
    "Input:\n",
    "Hello\n",
    "World\n",
    "\n",
    "Output:\n",
    "HeWorldllo\n",
    "```"
   ]
  },
  {
   "cell_type": "code",
   "execution_count": 9,
   "metadata": {},
   "outputs": [
    {
     "name": "stdout",
     "output_type": "stream",
     "text": [
      "Give outside word: Marec\n",
      "Give inside word: April\n",
      "Output:\n",
      "MaAprilrec\n"
     ]
    }
   ],
   "source": [
    "# Rešitev\n",
    "word1 = input(\"Give outside word: \")\n",
    "word2 = input(\"Give inside word: \")\n",
    "\n",
    "middle = (len(word1) // 2)\n",
    "print(f\"Output:\\n{word1[:middle]}{word2}{word1[middle:]}\")"
   ]
  },
  {
   "cell_type": "markdown",
   "metadata": {},
   "source": [
    "<div class=\"alert alert-block alert-info\">\n",
    "<h1><b>Naloga: </b></h1>\n",
    "<p>\n",
    "Obrnite vrstni red lista.\n",
    "</p>\n",
    "</div>\n",
    "\n",
    "Primeri:\n",
    "```python\n",
    "Input:\n",
    "[1,2,3,4,5]\n",
    "\n",
    "Output:\n",
    "[5,4,3,2,1]\n",
    "\n",
    "\n",
    "Input:\n",
    "[\"H\", \"e\", \"e\", \"l\", \"o\"]\n",
    "\n",
    "Output:\n",
    "[\"o\", \"l\", \"e\", \"e\", \"H\"]\n",
    "```"
   ]
  },
  {
   "cell_type": "code",
   "execution_count": 20,
   "metadata": {},
   "outputs": [
    {
     "name": "stdout",
     "output_type": "stream",
     "text": [
      "Input: \n",
      "[1, 2, 3, 4, 5] \n",
      "\n",
      "Output: \n",
      "[5, 4, 3, 2, 1]\n",
      "\n",
      "Input: \n",
      "['H', 'e', 'e', 'l', 'o'] \n",
      "\n",
      "Output: \n",
      "['o', 'l', 'e', 'e', 'H']\n",
      "\n"
     ]
    }
   ],
   "source": [
    "# Rešitev\n",
    "def print_reverse(list_input):\n",
    "    print(f\"Input: \\n{list_input} \\n\\nOutput: \\n{list_input[::-1]}\\n\")\n",
    "\n",
    "print_reverse([1,2,3,4,5])\n",
    "print_reverse([\"H\", \"e\", \"e\", \"l\", \"o\"])"
   ]
  },
  {
   "cell_type": "code",
   "execution_count": null,
   "metadata": {},
   "outputs": [],
   "source": []
  },
  {
   "cell_type": "markdown",
   "metadata": {},
   "source": [
    "<div class=\"alert alert-block alert-info\">\n",
    "<h1><b>Naloga: </b></h1>\n",
    "<p>\n",
    "Iz podanega lista pridobite element 5. To vrednost kvadrirajte in shranite v novo spremenljivko.\n",
    "</p>\n",
    "</div>\n",
    "\n",
    "Primeri:\n",
    "```python\n",
    "Input:\n",
    "[1, 2, 3, [4, [5], 6], 7]\n",
    "\n",
    "Output:\n",
    "25\n",
    "\n",
    "\n",
    "Input:\n",
    "[10, -3, 3, [12, [5, -9], 6, 66, 666], 7, 70]\n",
    "\n",
    "Output:\n",
    "25\n",
    "```"
   ]
  },
  {
   "cell_type": "code",
   "execution_count": 23,
   "metadata": {},
   "outputs": [
    {
     "data": {
      "text/plain": [
       "25"
      ]
     },
     "execution_count": 23,
     "metadata": {},
     "output_type": "execute_result"
    }
   ],
   "source": [
    "# Rešitev\n",
    "list_input = [1, 2, 3, [4, [5], 6], 7]\n",
    "squared_five = list_input[3][1][0] ** 2\n",
    "squared_five"
   ]
  },
  {
   "cell_type": "code",
   "execution_count": 24,
   "metadata": {},
   "outputs": [
    {
     "data": {
      "text/plain": [
       "25"
      ]
     },
     "execution_count": 24,
     "metadata": {},
     "output_type": "execute_result"
    }
   ],
   "source": [
    "# Rešitev\n",
    "list_input = [10, -3, 3, [12, [5, -9], 6, 66, 666], 7, 70]\n",
    "squared_five = list_input[3][1][0] ** 2\n",
    "squared_five"
   ]
  },
  {
   "cell_type": "markdown",
   "metadata": {},
   "source": [
    "<div class=\"alert alert-block alert-info\">\n",
    "<h1><b>Naloga: </b></h1>\n",
    "<p>\n",
    "Podana imate dva lista. Seštejte njuja predzadnja elementa.\n",
    "</p>\n",
    "</div>\n",
    "\n",
    "Primeri:\n",
    "```python\n",
    "Input:\n",
    "[1,2,3,4,5]\n",
    "[6,7,8,9]\n",
    "Ouput:\n",
    "12\n",
    "\n",
    "\n",
    "Input:\n",
    "[1,2,3,4]\n",
    "[\"a\", \"b\", \"c\", 10, \"d\"]\n",
    "Output:\n",
    "13\n",
    "\n",
    "\n",
    "Input:\n",
    "[\"1\", \"2\", \"3\", \"4\"]\n",
    "[1,2,3,4]\n",
    "Output:\n",
    "6\n",
    "```"
   ]
  },
  {
   "cell_type": "code",
   "execution_count": 29,
   "metadata": {},
   "outputs": [
    {
     "name": "stdout",
     "output_type": "stream",
     "text": [
      "12\n",
      "13\n",
      "6\n"
     ]
    }
   ],
   "source": [
    "# Rešitev\n",
    "def sum_second_last(list_a, list_b):\n",
    "    print(int(list_a[-2]) + int(list_b[-2]))\n",
    "\n",
    "sum_second_last([1,2,3,4,5], [6,7,8,9])\n",
    "sum_second_last([1,2,3,4], [\"a\", \"b\", \"c\", 10, \"d\"])\n",
    "sum_second_last([\"1\", \"2\", \"3\", \"4\"], [1,2,3,4])\n",
    "\n"
   ]
  },
  {
   "cell_type": "code",
   "execution_count": null,
   "metadata": {},
   "outputs": [],
   "source": []
  },
  {
   "cell_type": "markdown",
   "metadata": {},
   "source": [
    "<div class=\"alert alert-block alert-info\">\n",
    "<h1><b>Naloga: </b></h1>\n",
    "<p>\n",
    "Iz sledečih listov vedno dostopajte in izpišite vrednost \"Python\".\n",
    "</p>\n",
    "</div>\n",
    "\n",
    "Primeri:\n",
    "```python\n",
    "Input:\n",
    "[1,2,3,[4,5,[6,7],[8,9],10,\"Python\",11],12]\n",
    "Output:\n",
    "Python\n",
    "\n",
    "\n",
    "Input:\n",
    "[1,2,[3,4,[5,6],[7,8,[9,\"HelloPython\"],10]]]\n",
    "Output:\n",
    "Python\n",
    "```"
   ]
  },
  {
   "cell_type": "code",
   "execution_count": 40,
   "metadata": {},
   "outputs": [
    {
     "name": "stdout",
     "output_type": "stream",
     "text": [
      "Python\n",
      "Python\n"
     ]
    }
   ],
   "source": [
    "# Rešitev\n",
    "list_one = [1,2,3,[4,5,[6,7],[8,9],10,\"Python\",11],12]\n",
    "print(list_one[3][5])\n",
    "list_two = [1,2,[3,4,[5,6],[7,8,[9,\"HelloPython\"],10]]]\n",
    "print(list_two[2][3][2][1][5:])"
   ]
  },
  {
   "cell_type": "code",
   "execution_count": null,
   "metadata": {},
   "outputs": [],
   "source": []
  },
  {
   "cell_type": "markdown",
   "metadata": {},
   "source": [
    "<div class=\"alert alert-block alert-info\">\n",
    "<h1><b>Naloga: </b></h1>\n",
    "<p>\n",
    "Iz sledečih dictionary izpišite vrednost \"Python\"\n",
    "</p>\n",
    "</div>\n",
    "\n",
    "Primeri:\n",
    "```python\n",
    "Input:\n",
    "{1: 1,\n",
    " 2: 10,\n",
    " 3: 100,\n",
    " 4: \"Python\",\n",
    " 5: 5}\n",
    "Output:\n",
    "Python\n",
    "\n",
    "\n",
    "Input:\n",
    "d = {1: 1,\n",
    "    2: 10,\n",
    "    3: {1: 1,\n",
    "        2: 2,\n",
    "        3: {\n",
    "            1: 1,\n",
    "            2: 2,\n",
    "            3: 3,\n",
    "            4: 5,\n",
    "            5: \"Python\"\n",
    "        }\n",
    "    }}\n",
    "Output:\n",
    "Python\n",
    "\n",
    "\n",
    "Input:\n",
    "{1: 1,\n",
    "    2: 10,\n",
    "    3: {1: 1,\n",
    "        2: 2,\n",
    "        3: {\n",
    "            1: 1,\n",
    "            2: 2,\n",
    "        },\n",
    "    4: [1,2,3,5,{1:1, 2:\"Python\"}]\n",
    "    }}\n",
    "Output:\n",
    "Python\n",
    "\n",
    "```"
   ]
  },
  {
   "cell_type": "code",
   "execution_count": 42,
   "metadata": {},
   "outputs": [
    {
     "name": "stdout",
     "output_type": "stream",
     "text": [
      "Python\n",
      "Python\n",
      "Python\n"
     ]
    }
   ],
   "source": [
    "# Rešitev\n",
    "dict_1 = {1: 1,\n",
    " 2: 10,\n",
    " 3: 100,\n",
    " 4: \"Python\",\n",
    " 5: 5}\n",
    "print(dict_1[4])\n",
    "dict_2 = {1: 1,\n",
    "    2: 10,\n",
    "    3: {1: 1,\n",
    "        2: 2,\n",
    "        3: {\n",
    "            1: 1,\n",
    "            2: 2,\n",
    "            3: 3,\n",
    "            4: 5,\n",
    "            5: \"Python\"\n",
    "        }\n",
    "    }}\n",
    "print(dict_2[3][3][5])\n",
    "dict_3 = {1: 1,\n",
    "    2: 10,\n",
    "    3: {1: 1,\n",
    "        2: 2,\n",
    "        3: {\n",
    "            1: 1,\n",
    "            2: 2,\n",
    "        },\n",
    "        4: [1,2,3,5,{1:1, 2:\"Python\"}]\n",
    "        }}\n",
    "print(dict_3[3][4][4][2])"
   ]
  },
  {
   "cell_type": "code",
   "execution_count": null,
   "metadata": {},
   "outputs": [],
   "source": []
  },
  {
   "cell_type": "code",
   "execution_count": null,
   "metadata": {},
   "outputs": [],
   "source": []
  }
 ],
 "metadata": {
  "kernelspec": {
   "display_name": "Python 3",
   "language": "python",
   "name": "python3"
  },
  "language_info": {
   "codemirror_mode": {
    "name": "ipython",
    "version": 3
   },
   "file_extension": ".py",
   "mimetype": "text/x-python",
   "name": "python",
   "nbconvert_exporter": "python",
   "pygments_lexer": "ipython3",
   "version": "3.8.7"
  }
 },
 "nbformat": 4,
 "nbformat_minor": 4
}
