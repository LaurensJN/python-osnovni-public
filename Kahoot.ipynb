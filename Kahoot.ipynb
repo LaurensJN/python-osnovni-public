{
 "cells": [
  {
   "cell_type": "markdown",
   "metadata": {},
   "source": [
    "# Kahoot\n",
    "Vprašanja in odgovori\n",
    "\n",
    "<span style=\"color:purple\">_**Za odgovore, najprej poženite spodnjo celico!**_</span>\n",
    "\n",
    "<span style=\"color:purple\">_**Pod vsakim vprašanjem je vrstica, ki jo lahko zaženete in vam bo podala pravilni odgovor!**_</span>\n",
    "\n",
    "Odgovori so šifrirani, tako da se lahko večkrat preizkusite v reševanju in ne boste podzavestno že videli odgovora."
   ]
  },
  {
   "cell_type": "code",
   "execution_count": null,
   "metadata": {},
   "outputs": [],
   "source": [
    "# če želite odgovore, najprej poženite to celico\n",
    "def encode_to_hex(data_str):\n",
    "    return data_str.encode().hex()\n",
    "def decode_from_hex(data_hex):\n",
    "    return bytes.fromhex(data_hex).decode(\"utf-8\")\n",
    "answers = {\n",
    "    \"2-1\": \"66226d6f6a20737472696e6722\",\n",
    "    \"2-2\": \"54727565\",\n",
    "    \"2-3\": \"46616c7365\",\n",
    "    \"2-4\": \"5b5d204f676c617465206f6b6c6570616a65\",\n",
    "    \"2-5\": \"33\",\n",
    "    \"2-6\": \"46616c7365\",\n",
    "    \"2-7\": \"646963745f5b2263225d\",\n",
    "    \"2-8\": \"46616c7365\",\n",
    "    \n",
    "    \"3-1\": \"54727565\",\n",
    "    \"3-2\": \"567273746963612c206b69206a65207a616d616b6e6a656e612028696e64656e74656429206d616e6a206b6f74207072656ac5a16e6a612076727374696361\",\n",
    "    \"3-3\": \"312c322c34\",\n",
    "    \"3-4\": \"54727565\",\n",
    "    \"3-5\": \"6e65736b6f6ec48d6e6120697465726163696a61\",\n",
    "    \"3-6\": \"636f7267652c207175782c2062617a2c20446f6e652e\",\n",
    "    \"3-7\": \"54727565\",\n",
    "    \"3-8\": \"666f72207a616e6b61\",\n",
    "    \"3-9\": \"312c322c3131\",\n",
    "    \n",
    "    \"4-1\": \"646566\",\n",
    "    \"4-2\": \"5365206e65207a616b6c6a75c48d692e\",\n",
    "    \"4-3\": \"322031\",\n",
    "    \"4-4\": \"34343232\",\n",
    "    \"4-5\": \"46616c7365\",\n",
    "    \"4-6\": \"54727565\",\n",
    "    \"4-7\": \"687275c5a16b61206a61626f6c6b6f206d616c696e61\"\n",
    "}"
   ]
  },
  {
   "cell_type": "markdown",
   "metadata": {},
   "source": [
    "## Termin 2"
   ]
  },
  {
   "cell_type": "markdown",
   "metadata": {},
   "source": [
    "1. Kako ustvarimo f-string?\n",
    "<span style=\"color:blue\">\n",
    "\n",
    "    > \"moj string\".format()\n",
    "    \n",
    "    > f\"moj string\"\n",
    "    \n",
    "    > \"moj string %s\" % (str_)\n",
    "    \n",
    "    > r\"moj string\"\n",
    "</span>"
   ]
  },
  {
   "cell_type": "code",
   "execution_count": null,
   "metadata": {},
   "outputs": [],
   "source": [
    "# print(f\"Pravilni odgovor:\\n\\t{decode_from_hex(answers['2-1'])}\")"
   ]
  },
  {
   "cell_type": "markdown",
   "metadata": {},
   "source": [
    "2. Kaj bo vrednost izraza 5>=5 ?\n",
    "<span style=\"color:blue\">\n",
    "\n",
    "    > True\n",
    "    \n",
    "    > False\n",
    "</span>"
   ]
  },
  {
   "cell_type": "code",
   "execution_count": null,
   "metadata": {},
   "outputs": [],
   "source": [
    "# print(f\"Pravilni odgovor:\\n\\t{decode_from_hex(answers['2-2'])}\")"
   ]
  },
  {
   "cell_type": "markdown",
   "metadata": {},
   "source": [
    "3. Kaj bo vrednost izraza: True AND False?\n",
    "<span style=\"color:blue\">\n",
    "\n",
    "    > True\n",
    "    \n",
    "    > False\n",
    "</span>"
   ]
  },
  {
   "cell_type": "code",
   "execution_count": null,
   "metadata": {},
   "outputs": [],
   "source": [
    "# print(f\"Pravilni odgovor:\\n\\t{decode_from_hex(answers['2-3'])}\")"
   ]
  },
  {
   "cell_type": "markdown",
   "metadata": {},
   "source": [
    "4. Katere oklepaje uporablja za ustvarjanje list-ov?\n",
    "<span style=\"color:blue\">\n",
    "\n",
    "    > () Navadne oklepaje\n",
    "    \n",
    "    > [] Oglate oklepaje\n",
    "    \n",
    "    > {} Zavite oklepaje\n",
    "    \n",
    "    > €€ Evre\n",
    "</span>"
   ]
  },
  {
   "cell_type": "code",
   "execution_count": null,
   "metadata": {},
   "outputs": [],
   "source": [
    "# print(f\"Pravilni odgovor:\\n\\t{decode_from_hex(answers['2-4'])}\")"
   ]
  },
  {
   "cell_type": "markdown",
   "metadata": {},
   "source": [
    "5. Na katerem indexu se nahaja vrednost 5 v listu [1,4,2,5,6] ?\n",
    "<span style=\"color:blue\">\n",
    "\n",
    "    > 1\n",
    "    \n",
    "    > 2\n",
    "    \n",
    "    > 3\n",
    "    \n",
    "    > 4\n",
    "</span>"
   ]
  },
  {
   "cell_type": "code",
   "execution_count": null,
   "metadata": {},
   "outputs": [],
   "source": [
    "# print(f\"Pravilni odgovor:\\n\\t{decode_from_hex(answers['2-5'])}\")"
   ]
  },
  {
   "cell_type": "markdown",
   "metadata": {},
   "source": [
    "6. Ali lahko \"tuple\" spreminjamo (dodajamo elemente, brišemo elemente, itd.)?\n",
    "<span style=\"color:blue\">\n",
    "\n",
    "    > True\n",
    "    \n",
    "    > False\n",
    "</span>"
   ]
  },
  {
   "cell_type": "code",
   "execution_count": null,
   "metadata": {},
   "outputs": [],
   "source": [
    "# print(f\"Pravilni odgovor:\\n\\t{decode_from_hex(answers['2-6'])}\")"
   ]
  },
  {
   "cell_type": "markdown",
   "metadata": {},
   "source": [
    "7. Kako bi dostopali do vrednosti 3, v sledečem dictionary?\n",
    "```\n",
    "    dict_ = {\n",
    "        \"a\": 1,\n",
    "        \"b\": 2,\n",
    "        \"c\": 3,\n",
    "        \"d\": 4\n",
    "    }\n",
    "```\n",
    "<span style=\"color:blue\">\n",
    "\n",
    "    > dict_[\"a\"]\n",
    "    \n",
    "    > dict_[3]\n",
    "    \n",
    "    > dict_[\"3\"]\n",
    "    \n",
    "    > dict_[\"c\"]\n",
    "</span>"
   ]
  },
  {
   "cell_type": "code",
   "execution_count": null,
   "metadata": {},
   "outputs": [],
   "source": [
    "# print(f\"Pravilni odgovor:\\n\\t{decode_from_hex(answers['2-7'])}\")"
   ]
  },
  {
   "cell_type": "markdown",
   "metadata": {},
   "source": [
    "8. V set-u se lahko pojavljajo podvojene vrednosti?\n",
    "<span style=\"color:blue\">\n",
    "\n",
    "    > True\n",
    "    \n",
    "    > False\n",
    "</span>"
   ]
  },
  {
   "cell_type": "code",
   "execution_count": null,
   "metadata": {},
   "outputs": [],
   "source": [
    "# print(f\"Pravilni odgovor:\\n\\t{decode_from_hex(answers['2-8'])}\")"
   ]
  },
  {
   "cell_type": "markdown",
   "metadata": {},
   "source": [
    "## Termin 3"
   ]
  },
  {
   "cell_type": "markdown",
   "metadata": {},
   "source": [
    "1. Ali se bo spodnja koda izvedla uspešno?\n",
    "```\n",
    "    if (1, 2):\n",
    "        print(\"foo\")\n",
    "```\n",
    "<span style=\"color:blue\">\n",
    "\n",
    "    > True\n",
    "    \n",
    "    > False\n",
    "</span>"
   ]
  },
  {
   "cell_type": "code",
   "execution_count": null,
   "metadata": {},
   "outputs": [],
   "source": [
    "# print(f\"Pravilni odgovor:\\n\\t{decode_from_hex(answers['3-1'])}\")"
   ]
  },
  {
   "cell_type": "markdown",
   "metadata": {},
   "source": [
    "2. Kaj predstavlja konec bloka kode v Pythonu?\n",
    "<span style=\"color:blue\">\n",
    "\n",
    "    > end\n",
    "    \n",
    "    > komentar\n",
    "\n",
    "    > }\n",
    "\n",
    "    > Vrstica, ki je zamaknjena (indented) manj kot prejšnja vrstica\n",
    "</span>"
   ]
  },
  {
   "cell_type": "code",
   "execution_count": null,
   "metadata": {},
   "outputs": [],
   "source": [
    "# print(f\"Pravilni odgovor:\\n\\t{decode_from_hex(answers['3-2'])}\")"
   ]
  },
  {
   "cell_type": "markdown",
   "metadata": {},
   "source": [
    "3. Katere številke izpiše spodnja koda?\n",
    "```\n",
    "    if \"bar\" in {\"foo\": 1, \"bar\": 2, \"baz\": 3}\n",
    "        print(1)\n",
    "        print(2)\n",
    "        if 'a' in \"qux\":\n",
    "            print(3)\n",
    "    print(4)\n",
    "```\n",
    "<span style=\"color:blue\">\n",
    "\n",
    "    > 4\n",
    "\n",
    "    > 1,2,3,4\n",
    "\n",
    "    > 1,2,4\n",
    "\n",
    "    > ne izpiše ničesar\n",
    "</span>"
   ]
  },
  {
   "cell_type": "code",
   "execution_count": null,
   "metadata": {},
   "outputs": [],
   "source": [
    "# print(f\"Pravilni odgovor:\\n\\t{decode_from_hex(answers['3-3'])}\")"
   ]
  },
  {
   "cell_type": "markdown",
   "metadata": {},
   "source": [
    "4. Ali se bo koda zagnala uspešno? (brez napake)\n",
    "```\n",
    "    d = {'a': 0, 'b': 1, 'c': 0}\n",
    "    \n",
    "    if d['a'] > 0:\n",
    "        print(\"ok\")\n",
    "    elif d['b'] > 0:\n",
    "        print(\"ok\")\n",
    "    elif d['c'] > 0:\n",
    "        print(\"ok\")\n",
    "    elif d['d'] > 0:\n",
    "        print(\"ok\")\n",
    "    else:\n",
    "        print(\"not ok\")\n",
    "```\n",
    "<span style=\"color:blue\">\n",
    "\n",
    "    > dict_[\"a\"]\n",
    "    \n",
    "    > dict_[3]\n",
    "    \n",
    "    > dict_[\"3\"]\n",
    "    \n",
    "    > dict_[\"c\"]\n",
    "</span>"
   ]
  },
  {
   "cell_type": "code",
   "execution_count": null,
   "metadata": {},
   "outputs": [],
   "source": [
    "# print(f\"Pravilni odgovor:\\n\\t{decode_from_hex(answers['3-4'])}\")"
   ]
  },
  {
   "cell_type": "markdown",
   "metadata": {},
   "source": [
    "5. Za kateri tip iteracije uporabljamo v Python-u while zanko?\n",
    "<span style=\"color:blue\">\n",
    "\n",
    "    > končna iteracija\n",
    "\n",
    "    > neskončna iteracija\n",
    "    \n",
    "    > diskriminantna iteracija\n",
    "    \n",
    "    > indeterminantna iteracija\n",
    "</span>"
   ]
  },
  {
   "cell_type": "code",
   "execution_count": null,
   "metadata": {},
   "outputs": [],
   "source": [
    "# print(f\"Pravilni odgovor:\\n\\t{decode_from_hex(answers['3-5'])}\")"
   ]
  },
  {
   "cell_type": "markdown",
   "metadata": {},
   "source": [
    "6. Kaj bo rezultat spodnje kode?\n",
    "```\n",
    "    a = [\"foo\", \"bar\", \"baz\", \"qux\", \"corge\"]\n",
    "    while a:\n",
    "        if len(a) < 3:\n",
    "            break\n",
    "        print(a.pop())\n",
    "    print(\"Done.\")\n",
    "```  \n",
    "<span style=\"color:blue\">\n",
    "\n",
    "    > corge, qux, baz, Done.\n",
    "    \n",
    "    > ne generira izpisa\n",
    "    \n",
    "    > corge, qux, baz\n",
    "    \n",
    "    > corge, qux, baz, bar, foo, Done.\n",
    "</span>"
   ]
  },
  {
   "cell_type": "code",
   "execution_count": null,
   "metadata": {},
   "outputs": [],
   "source": [
    "# print(f\"Pravilni odgovor:\\n\\t{decode_from_hex(answers['3-6'])}\")"
   ]
  },
  {
   "cell_type": "markdown",
   "metadata": {},
   "source": [
    "7. Ali spodnja koda ustvari neskončno zanko? \n",
    "```\n",
    "    a = [\"foo\", \"bar\", \"baz\", \"qux\", \"corge\"]\n",
    "    while a:\n",
    "        ...\n",
    "```\n",
    "<span style=\"color:blue\">\n",
    "\n",
    "    > True\n",
    "    \n",
    "    > False\n",
    "</span>"
   ]
  },
  {
   "cell_type": "code",
   "execution_count": null,
   "metadata": {},
   "outputs": [],
   "source": [
    "# print(f\"Pravilni odgovor:\\n\\t{decode_from_hex(answers['3-7'])}\")"
   ]
  },
  {
   "cell_type": "markdown",
   "metadata": {},
   "source": [
    "8. Kako se najlažje sprehodimo skozi elemente lista?\n",
    "<span style=\"color:blue\">\n",
    "\n",
    "    > for zanka\n",
    "    \n",
    "    > while zanka\n",
    "    \n",
    "    > if zanka\n",
    "    \n",
    "    > switch zanka\n",
    "</span>"
   ]
  },
  {
   "cell_type": "code",
   "execution_count": null,
   "metadata": {},
   "outputs": [],
   "source": [
    "# print(f\"Pravilni odgovor:\\n\\t{decode_from_hex(answers['3-8'])}\")"
   ]
  },
  {
   "cell_type": "markdown",
   "metadata": {},
   "source": [
    "9. Kaj bo izpis spodnje kode?\n",
    "```\n",
    "    for x in range(1,3):    #line 1\n",
    "        print(x)            #line 2\n",
    "                            #line 3\n",
    "    print(5+2*3)            #line 4\n",
    "```\n",
    "<span style=\"color:blue\">\n",
    "\n",
    "    > 1,2,11\n",
    "    \n",
    "    > 1,2,21\n",
    "    \n",
    "    > 1,2,3,11\n",
    "    \n",
    "    > 1,2,3,21\n",
    "</span>"
   ]
  },
  {
   "cell_type": "code",
   "execution_count": null,
   "metadata": {},
   "outputs": [],
   "source": [
    "# print(f\"Pravilni odgovor:\\n\\t{decode_from_hex(answers['3-9'])}\")"
   ]
  },
  {
   "cell_type": "markdown",
   "metadata": {},
   "source": [
    "# Termin 4"
   ]
  },
  {
   "cell_type": "markdown",
   "metadata": {},
   "source": [
    "1. S katerim keyword-om definiramo funkcijo?\n",
    "<span style=\"color:blue\">\n",
    "\n",
    "    > fun\n",
    "    \n",
    "    > function\n",
    "    \n",
    "    > def\n",
    "    \n",
    "    > loop\n",
    "</span>"
   ]
  },
  {
   "cell_type": "code",
   "execution_count": null,
   "metadata": {},
   "outputs": [],
   "source": [
    "# print(f\"Pravilni odgovor:\\n\\t{decode_from_hex(answers['4-1'])}\")"
   ]
  },
  {
   "cell_type": "markdown",
   "metadata": {},
   "source": [
    "2. Kaj se zgodi z navedeno kodo?\n",
    "```\n",
    "    def fun_1(niz):\n",
    "        return True\n",
    "    \n",
    "    def fun_3(niz):\n",
    "        fun_2(niz)\n",
    "    \n",
    "    def fun_9(niz):\n",
    "        fun_3(niz)\n",
    "    \n",
    "    def fun_2(niz):\n",
    "        fun_9(niz)\n",
    "    \n",
    "    def fun_5(niz):\n",
    "        retur False\n",
    "    \n",
    "    print(fun_3(\"Ponedeljek))    \n",
    "```\n",
    "<span style=\"color:blue\">\n",
    "\n",
    "    > Izpiše \"True\"\n",
    "\n",
    "    > Izpiše \"False\"\n",
    "\n",
    "    > Se ne zaključi.\n",
    "\n",
    "    > Izpiše \"Ponedeljek\"\n",
    "</span>"
   ]
  },
  {
   "cell_type": "code",
   "execution_count": null,
   "metadata": {},
   "outputs": [],
   "source": [
    "# print(f\"Pravilni odgovor:\\n\\t{decode_from_hex(answers['4-2'])}\")"
   ]
  },
  {
   "cell_type": "markdown",
   "metadata": {},
   "source": [
    "3. Kaj izpiše navedena koda?\n",
    "```\n",
    "    def neka_funkcija(a,b):\n",
    "        druga_funkcija(b,a)\n",
    "    \n",
    "    def druga_funkcija(a,b):\n",
    "        print(a,b)\n",
    "    \n",
    "    neka_funkcija(1,2)\n",
    "```\n",
    "<span style=\"color:blue\">\n",
    "    \n",
    "    > 1 1\n",
    "\n",
    "    > 1 2\n",
    "\n",
    "    > 2 1\n",
    "\n",
    "    > 2 2\n",
    "</span>"
   ]
  },
  {
   "cell_type": "code",
   "execution_count": null,
   "metadata": {},
   "outputs": [],
   "source": [
    "# print(f\"Pravilni odgovor:\\n\\t{decode_from_hex(answers['4-3'])}\")"
   ]
  },
  {
   "cell_type": "markdown",
   "metadata": {},
   "source": [
    "4. Kaj izpiše navedena koda?\n",
    "```\n",
    "    def fun_to_return(number):\n",
    "        if number > 10:\n",
    "            print(1,end=\"\")\n",
    "        elif number > 7:\n",
    "            print(2,end=\"\")\n",
    "        elif number > 9:\n",
    "            print(3,end=\"\")\n",
    "        elif number > 5:\n",
    "            print(4,end=\"\")\n",
    "    \n",
    "    num = 5\n",
    "    while num < 10:\n",
    "        fun_to_return(num)\n",
    "        num += 1\n",
    "```\n",
    "<span style=\"color:blue\">\n",
    "\n",
    "    > 4142\n",
    "\n",
    "    > 4223\n",
    "\n",
    "    > 4422\n",
    "\n",
    "    > 2144\n",
    "</span>"
   ]
  },
  {
   "cell_type": "code",
   "execution_count": null,
   "metadata": {},
   "outputs": [],
   "source": [
    "# print(f\"Pravilni odgovor:\\n\\t{decode_from_hex(answers['4-4'])}\")"
   ]
  },
  {
   "cell_type": "markdown",
   "metadata": {},
   "source": [
    "5. Navedena koda je napisana pravilno.\n",
    "```\n",
    "    def neka_funkcija(a = 10, b):\n",
    "        return a*b\n",
    "    \n",
    "    print(neka_funkcija(b = 3))\n",
    "```\n",
    "<span style=\"color:blue\">\n",
    "\n",
    "    > True\n",
    "    \n",
    "    > False\n",
    "</span>"
   ]
  },
  {
   "cell_type": "code",
   "execution_count": null,
   "metadata": {},
   "outputs": [],
   "source": [
    "# print(f\"Pravilni odgovor:\\n\\t{decode_from_hex(answers['4-5'])}\")"
   ]
  },
  {
   "cell_type": "markdown",
   "metadata": {},
   "source": [
    "6. V eni funkciji je lahko zapisanih več \"return\" izrazov.\n",
    "<span style=\"color:blue\">\n",
    "\n",
    "    > True\n",
    "    \n",
    "    > False\n",
    "</span>"
   ]
  },
  {
   "cell_type": "code",
   "execution_count": null,
   "metadata": {},
   "outputs": [],
   "source": [
    "# print(f\"Pravilni odgovor:\\n\\t{decode_from_hex(answers['4-6'])}\")"
   ]
  },
  {
   "cell_type": "markdown",
   "metadata": {},
   "source": [
    "7. Kaj izpiše navedena koda?\n",
    "```\n",
    "    def to_print(niz = \"jabolko\"):\n",
    "        print(f\"{niz}\", end=\" \")\n",
    "    \n",
    "    to_print(\"hruška\")\n",
    "    to_print()\n",
    "    to_print(\"malina\")\n",
    "```\n",
    "<span style=\"color:blue\">\n",
    "\n",
    "    > hruška malina\n",
    "\n",
    "    > malina jabolko hruška\n",
    "\n",
    "    > hruška jabolko malina\n",
    "\n",
    "    > hruškamalina\n",
    "</span>"
   ]
  },
  {
   "cell_type": "code",
   "execution_count": null,
   "metadata": {},
   "outputs": [],
   "source": [
    "# print(f\"Pravilni odgovor:\\n\\t{decode_from_hex(answers['4-7'])}\")"
   ]
  },
  {
   "cell_type": "code",
   "execution_count": null,
   "metadata": {},
   "outputs": [],
   "source": []
  }
 ],
 "metadata": {
  "kernelspec": {
   "display_name": "Python 3",
   "language": "python",
   "name": "python3"
  },
  "language_info": {
   "codemirror_mode": {
    "name": "ipython",
    "version": 3
   },
   "file_extension": ".py",
   "mimetype": "text/x-python",
   "name": "python",
   "nbconvert_exporter": "python",
   "pygments_lexer": "ipython3",
   "version": "3.9.0"
  }
 },
 "nbformat": 4,
 "nbformat_minor": 4
}
