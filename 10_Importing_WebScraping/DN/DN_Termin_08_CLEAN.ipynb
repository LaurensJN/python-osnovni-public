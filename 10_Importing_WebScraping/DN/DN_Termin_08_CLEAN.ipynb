{
 "cells": [
  {
   "cell_type": "markdown",
   "metadata": {},
   "source": [
    "<div class=\"alert alert-block alert-info\">\n",
    "<h1><b>Naloga: </b></h1>\n",
    "Ustvarite skripto, ki nam pove v kateri fazi COVID semaforja se nahajamo glede na <b>Št. pozitivnih testov - 7dnevno povprečje</b> in <b>število hospitaliziranih</b>.\n",
    "    \n",
    "Podatke pridobite na https://api.sledilnik.org/api/stats. Podani so v JSON formatu, z najnovejšimi podatki na koncu.\n",
    "</div>\n"
   ]
  },
  {
   "cell_type": "code",
   "execution_count": 7,
   "metadata": {},
   "outputs": [],
   "source": [
    "# Rešitev\n",
    "import requests\n",
    "\n",
    "def determine_zone(seven_day_average, hospitalised):\n",
    "    txt = f\"with {round(seven_day_average)} cases on average per day in the last week, and {hospitalised} hospitalised, we are in the \"\n",
    "    if seven_day_average < 300 and hospitalised == 0:\n",
    "        txt = txt + \"green zone\"\n",
    "    elif seven_day_average < 600 and hospitalised < 500:\n",
    "        txt = txt + \"yellow zone\"\n",
    "    elif seven_day_average < 1000 and hospitalised < 1000:\n",
    "        txt = txt + \"orange zone\"\n",
    "    elif seven_day_average < 1350 and hospitalised < 1200:\n",
    "        txt = txt + \"red zone\"\n",
    "    else:\n",
    "        txt = txt + \"black zone\"\n",
    "    return txt\n",
    "\n",
    "covid_stats_url = \"https://api.sledilnik.org/api/stats\"\n",
    "r = requests.get(covid_stats_url)\n",
    "covid_stats = r.json()"
   ]
  },
  {
   "cell_type": "code",
   "execution_count": 21,
   "metadata": {},
   "outputs": [
    {
     "data": {
      "text/plain": [
       "'with 706 cases on average per day in the last week, and 629 hospitalised, we are in the orange zone'"
      ]
     },
     "execution_count": 21,
     "metadata": {},
     "output_type": "execute_result"
    }
   ],
   "source": [
    "seven_day_covid = covid_stats[-7:]\n",
    "covid_tests = [day['tests']['positive']['today'] for day in seven_day_covid]\n",
    "seven_day_average = sum(covid_tests) / len(covid_tests)\n",
    "hospitalised = covid_stats[-1]['statePerTreatment']['inHospital']\n",
    "\n",
    "determine_zone(seven_day_average, hospitalised)"
   ]
  },
  {
   "cell_type": "markdown",
   "metadata": {},
   "source": [
    "<div class=\"alert alert-block alert-info\">\n",
    "<h1><b>Naloga: </b></h1>\n",
    "Ustvarite skripto, ki nam pridobi podatke slovenski občin na spletni strani: <a href=https://skupnostobcin.si/podatki/zemljevid-obcin-tabela/#p2>https://skupnostobcin.si/podatki/zemljevid-obcin-tabela/#p2</a>\n",
    "    \n",
    "Skripta naj ustvari nov dictionary v katerega shrani Ime občine, število prebivalcev, površino (km2) in število prebivalca/km2 - ni potrebno upoštevati decimalk.\n",
    "    \n",
    "    data {\n",
    "        \"Ljubljana\": {\n",
    "            \"Št. prebivalcev\": 273091,\n",
    "            \"Površina (km2)\": 275,\n",
    "            \"Št.preb/km2\": 993\n",
    "            },\n",
    "        \"Piran\": {\n",
    "            \"Št. prebivalcev\": 17268,\n",
    "            \"Površina (km2)\": 44.6,\n",
    "            \"Št.preb/km2\": 387\n",
    "            },\n",
    "        ...\n",
    "        }\n",
    "    \n",
    "</div>\n"
   ]
  },
  {
   "cell_type": "code",
   "execution_count": 12,
   "metadata": {},
   "outputs": [],
   "source": [
    "# Rešitev\n",
    "import pandas as pd\n",
    "\n",
    "municipalities = pd.read_html(\"https://skupnostobcin.si/podatki/zemljevid-obcin-tabela/#p2\")[0]\n",
    "data = {}\n",
    "for idx, municipality in municipalities.iterrows():\n",
    "    name = municipality[\"Občina\"]\n",
    "    inhabitants = municipality[\"Št. prebivalcev\"]\n",
    "    area = municipality[\"Površina (km2)\"]\n",
    "    data[name] = {\"St. prebivalcev\": inhabitants,\n",
    "                  \"Površina (km2)\": area,\n",
    "                  \"St.preb/km2\": round(inhabitants/area),\n",
    "                }"
   ]
  },
  {
   "cell_type": "code",
   "execution_count": 14,
   "metadata": {},
   "outputs": [
    {
     "data": {
      "text/plain": [
       "{'St. prebivalcev': 273091, 'Površina (km2)': 275.0, 'St.preb/km2': 993}"
      ]
     },
     "execution_count": 14,
     "metadata": {},
     "output_type": "execute_result"
    }
   ],
   "source": []
  },
  {
   "cell_type": "markdown",
   "metadata": {},
   "source": [
    "<div class=\"alert alert-block alert-info\">\n",
    "<h1><b>Naloga: </b></h1>\n",
    "Ustvarite skripto, ki pridobi informacije o 250 najbolje ocenjenih filmih.\n",
    "    \n",
    "https://www.imdb.com/chart/top/?ref_=nv_mv_250\n",
    "    \n",
    "Skripta naj pridobi naslov filma, oceno filma in trajanje filma. Trajanje filma dobite, če odprete specifični film.\n",
    "</div>\n",
    "\n",
    "```python\n",
    "Output:\n",
    "Kaznilnica odrešitve\n",
    "9.2\n",
    "2h 22min\n",
    "\n",
    "Boter\n",
    "9.1\n",
    "2h 55min\n",
    "\n",
    "Boter, II. del\n",
    "9.0\n",
    "3h 22min\n",
    "\n",
    "Vitez teme\n",
    "9.0\n",
    "2h 32min\n",
    "\n",
    "...\n",
    "```"
   ]
  },
  {
   "cell_type": "code",
   "execution_count": 18,
   "metadata": {},
   "outputs": [
    {
     "data": {
      "text/plain": [
       "[     Unnamed: 0                                Rank & Title  IMDb Rating  \\\n",
       " 0           NaN            1.  Kaznilnica odrešitve  (1994)          9.2   \n",
       " 1           NaN                           2.  Boter  (1972)          9.1   \n",
       " 2           NaN                  3.  Boter, II. del  (1974)          9.0   \n",
       " 3           NaN                      4.  Vitez teme  (2008)          9.0   \n",
       " 4           NaN                   5.  12 jeznih mož  (1957)          8.9   \n",
       " ..          ...                                         ...          ...   \n",
       " 245         NaN                   246.  Mandariinid  (2013)          8.0   \n",
       " 246         NaN  247.  Zack Snyder's Justice League  (2021)          8.0   \n",
       " 247         NaN                      248.  Drishyam  (2015)          8.0   \n",
       " 248         NaN                249.  Alžirska bitka  (1966)          8.0   \n",
       " 249         NaN                250.  Koe no katachi  (2016)          8.0   \n",
       " \n",
       "                             Your Rating  Unnamed: 4  \n",
       " 0    12345678910 NOT YET RELEASED  Seen         NaN  \n",
       " 1    12345678910 NOT YET RELEASED  Seen         NaN  \n",
       " 2    12345678910 NOT YET RELEASED  Seen         NaN  \n",
       " 3    12345678910 NOT YET RELEASED  Seen         NaN  \n",
       " 4    12345678910 NOT YET RELEASED  Seen         NaN  \n",
       " ..                                  ...         ...  \n",
       " 245  12345678910 NOT YET RELEASED  Seen         NaN  \n",
       " 246  12345678910 NOT YET RELEASED  Seen         NaN  \n",
       " 247  12345678910 NOT YET RELEASED  Seen         NaN  \n",
       " 248  12345678910 NOT YET RELEASED  Seen         NaN  \n",
       " 249  12345678910 NOT YET RELEASED  Seen         NaN  \n",
       " \n",
       " [250 rows x 5 columns]]"
      ]
     },
     "execution_count": 18,
     "metadata": {},
     "output_type": "execute_result"
    }
   ],
   "source": [
    "# Rešitev\n",
    "import requests\n",
    "import pandas as pd\n",
    "imdb_url = \"https://www.imdb.com/chart/top/?ref_=nv_mv_250\"\n",
    "r = requests.get(imdb_url)\n",
    "imdb_stats = r.text\n",
    "df = pd.read_html(imdb_url)\n",
    "\n",
    "df"
   ]
  },
  {
   "cell_type": "code",
   "execution_count": null,
   "metadata": {},
   "outputs": [],
   "source": []
  },
  {
   "cell_type": "code",
   "execution_count": null,
   "metadata": {},
   "outputs": [],
   "source": []
  }
 ],
 "metadata": {
  "kernelspec": {
   "display_name": "Python 3",
   "language": "python",
   "name": "python3"
  },
  "language_info": {
   "codemirror_mode": {
    "name": "ipython",
    "version": 3
   },
   "file_extension": ".py",
   "mimetype": "text/x-python",
   "name": "python",
   "nbconvert_exporter": "python",
   "pygments_lexer": "ipython3",
   "version": "3.8.5"
  }
 },
 "nbformat": 4,
 "nbformat_minor": 4
}
