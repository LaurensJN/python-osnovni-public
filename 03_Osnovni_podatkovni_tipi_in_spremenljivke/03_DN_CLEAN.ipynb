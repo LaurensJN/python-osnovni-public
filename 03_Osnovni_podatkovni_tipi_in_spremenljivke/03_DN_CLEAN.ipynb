{
 "cells": [
  {
   "cell_type": "markdown",
   "metadata": {},
   "source": [
    "<div class=\"alert alert-block alert-info\">\n",
    "<h1><b>Naloga: </b></h1>\n",
    "<p>\n",
    "Uporabnika zaprosite naj vnese neko celo število.\n",
    "\n",
    "To vrednost shranite v spremenljivko z imenom **n** in jo izpišite in izpišite njen tip.\n",
    "\n",
    "Nato to vrednost pretvorite v float vrednost. Dobljeno float vrednost shranite v spremenljivko **n**. Nato **n** izpišite in izpišite njen tip.\n",
    "    \n",
    "Nato spremenljivko n pretvorite v integer vrednost in to shranite v novo spremenljivko **m**. Izpisite m in datati spremenljivke m.\n",
    "</p>\n",
    "</div>\n",
    "\n",
    "Primeri:\n",
    "```python\n",
    "Input:\n",
    "5\n",
    "\n",
    "Output:\n",
    "<class 'str'>\n",
    "5\n",
    "\n",
    "<class 'float'>\n",
    "5.0\n",
    "\n",
    "5\n",
    "<class 'int'>\n",
    "```"
   ]
  },
  {
   "cell_type": "code",
   "execution_count": 9,
   "metadata": {},
   "outputs": [
    {
     "name": "stdout",
     "output_type": "stream",
     "text": [
      "Enter an integer:\n",
      "5\n",
      "\n",
      "Output:\n",
      "<class 'str'>\n",
      "5\n",
      "\n",
      "<class 'float'>\n",
      "5.0\n",
      "\n",
      "5\n",
      "<class 'int'>\n"
     ]
    }
   ],
   "source": [
    "# Rešitev\n",
    "n = input(\"Enter an integer:\\n\")\n",
    "float_n = float(n)\n",
    "int_n = int(n)\n",
    "\n",
    "print(f\"\\nOutput:\", type(n), n, sep=\"\\n\", end=\"\\n\")\n",
    "print()\n",
    "print(type(float_n), float_n, sep=\"\\n\", end=\"\\n\")\n",
    "print()\n",
    "print(int_n, type(int_n), sep=\"\\n\", end=\"\\n\")"
   ]
  },
  {
   "cell_type": "markdown",
   "metadata": {},
   "source": [
    "<div class=\"alert alert-block alert-info\">\n",
    "<h1><b>Naloga: </b></h1>\n",
    "<p>\n",
    "Z večkratno uporabo print() funkcije izpišite \"smrekico\" veliko 4 vrstice.\n",
    "</p>\n",
    "</div>\n",
    "\n",
    "Primeri:\n",
    "```python\n",
    "Output:\n",
    "   *\n",
    "  ***\n",
    " *****\n",
    "*******\n",
    "```"
   ]
  },
  {
   "cell_type": "code",
   "execution_count": 12,
   "metadata": {},
   "outputs": [
    {
     "name": "stdout",
     "output_type": "stream",
     "text": [
      "    *\n",
      "   ***\n",
      "  *****\n",
      " *******\n"
     ]
    }
   ],
   "source": [
    "# Rešitev\n",
    "for i in range(4):\n",
    "    spaces = \" \" * (4 - i)\n",
    "    stars = \"*\" * (i * 2 + 1)\n",
    "    print(spaces + stars)"
   ]
  },
  {
   "cell_type": "markdown",
   "metadata": {},
   "source": [
    "<div class=\"alert alert-block alert-info\">\n",
    "<h1><b>Naloga: </b></h1>\n",
    "<p>\n",
    "S pomočjo podanih spremenljivk izpisite (print()) sledeča stavka.\n",
    "</p>\n",
    "</div>\n",
    "\n",
    "Primeri:\n",
    "```python\n",
    "Input:\n",
    "a = \"Ivan\"\n",
    "b = \"Cankar\"\n",
    "c = \"10.\"\n",
    "d = \"maja\"\n",
    "\n",
    "Output:\n",
    "Ivan Cankar se je rodil 10. maja\n",
    "10. maja se je rodil Ivan Cankar\n",
    "```"
   ]
  },
  {
   "cell_type": "code",
   "execution_count": 14,
   "metadata": {},
   "outputs": [
    {
     "name": "stdout",
     "output_type": "stream",
     "text": [
      "Ivan Cankar se je rodil 10. maja\n",
      "10. maja se je rodil Ivan Cankar\n"
     ]
    }
   ],
   "source": [
    "a = \"Ivan\"\n",
    "b = \"Cankar\"\n",
    "c = \"10.\"\n",
    "d = \"maja\"\n",
    "\n",
    "# Rešitev\n",
    "print(f\"{a} {b} se je rodil {c} {d}\")\n",
    "print(f\"{c} {d} se je rodil {a} {b}\")"
   ]
  },
  {
   "cell_type": "code",
   "execution_count": null,
   "metadata": {},
   "outputs": [],
   "source": []
  }
 ],
 "metadata": {
  "kernelspec": {
   "display_name": "Python 3",
   "language": "python",
   "name": "python3"
  },
  "language_info": {
   "codemirror_mode": {
    "name": "ipython",
    "version": 3
   },
   "file_extension": ".py",
   "mimetype": "text/x-python",
   "name": "python",
   "nbconvert_exporter": "python",
   "pygments_lexer": "ipython3",
   "version": "3.8.7"
  }
 },
 "nbformat": 4,
 "nbformat_minor": 4
}
